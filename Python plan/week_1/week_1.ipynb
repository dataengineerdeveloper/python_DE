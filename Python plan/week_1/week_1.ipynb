{
 "cells": [
  {
   "cell_type": "code",
   "execution_count": 58,
   "metadata": {},
   "outputs": [
    {
     "name": "stdout",
     "output_type": "stream",
     "text": [
      "test\n"
     ]
    }
   ],
   "source": [
    "val = input(\"enter soemthing\\n\")\n",
    "print(val)\n",
    "\n"
   ]
  },
  {
   "cell_type": "code",
   "execution_count": 3,
   "metadata": {},
   "outputs": [
    {
     "name": "stdout",
     "output_type": "stream",
     "text": [
      "2\n",
      "3\n",
      "type of number <class 'str'>\n",
      "type of name <class 'str'>\n"
     ]
    }
   ],
   "source": [
    "# Program to check input\n",
    "# type in Python\n",
    " \n",
    "num = input (\"Enter number :\")\n",
    "print(num)\n",
    "name1 = input(\"Enter name : \")\n",
    "print(name1)\n",
    " \n",
    "# Printing type of input value\n",
    "print (\"type of number\", type(num))\n",
    "print (\"type of name\", type(name1))"
   ]
  },
  {
   "cell_type": "code",
   "execution_count": 15,
   "metadata": {},
   "outputs": [
    {
     "name": "stdout",
     "output_type": "stream",
     "text": [
      "your number is  4 and the type is <class 'int'>\n",
      "your name is  luis and the type is <class 'str'>\n"
     ]
    }
   ],
   "source": [
    "num = int(input(\"Enter a number: \"))\n",
    "\n",
    "\"\"\"\n",
    "print do input value mais indicação do tipo de dados\n",
    "\"\"\"\n",
    "print(\"your number is \", num ,  \"and the type is\", type(num))\n",
    "\n",
    "num = str(input(\"Enter a name: \"))\n",
    "\n",
    "\"\"\"\n",
    "print do input value mais indicação do tipo de dados\n",
    "\"\"\"\n",
    "print(\"your name is \", num ,  \"and the type is\", type(num))"
   ]
  },
  {
   "cell_type": "code",
   "execution_count": 17,
   "metadata": {},
   "outputs": [
    {
     "name": "stdout",
     "output_type": "stream",
     "text": [
      "5\n"
     ]
    }
   ],
   "source": [
    "#multiplos inputs - numeros\n",
    "\n",
    "\n",
    "inp1 = int(input())\n",
    "inp2 = int(input())\n",
    "\n",
    "total = (inp1+inp2)\n",
    "print(total)"
   ]
  },
  {
   "cell_type": "code",
   "execution_count": 22,
   "metadata": {},
   "outputs": [
    {
     "name": "stdout",
     "output_type": "stream",
     "text": [
      "luis ed\n"
     ]
    }
   ],
   "source": [
    "#multiplos inputs - nomes\n",
    "\n",
    "inp1 = str(input())\n",
    "inp2 = str(input())\n",
    "\n",
    "total = (inp1+' '+inp2)\n",
    "print(total)"
   ]
  },
  {
   "cell_type": "code",
   "execution_count": 26,
   "metadata": {},
   "outputs": [
    {
     "name": "stdout",
     "output_type": "stream",
     "text": [
      "number of boys are:  4\n",
      "number of girls are:  5\n",
      "number of studenets are:  6\n"
     ]
    }
   ],
   "source": [
    "#possibilidade de inserir multiplos input\n",
    "# a ideia nesta caso é conseguir passar no mesmo input 2 numero seguidos, contudo é necessario das espaço\n",
    "\n",
    "\n",
    "x, y, t = input(\"enter 2 values: \").split()\n",
    "print(\"number of boys are: \", x)\n",
    "print(\"number of girls are: \", y)\n",
    "print(\"number of studenets are: \", t)\n",
    "\n"
   ]
  },
  {
   "cell_type": "code",
   "execution_count": 27,
   "metadata": {},
   "outputs": [
    {
     "name": "stdout",
     "output_type": "stream",
     "text": [
      "first number 4 and second numner is 5\n"
     ]
    }
   ],
   "source": [
    "#exatamento o mesmo de cima,  mas nesta caso estou a usar o format string\n",
    "a, b =  input(\"enter 2 values: \").split()\n",
    "print(f'first number {a} and second numner is {b}')\n"
   ]
  },
  {
   "cell_type": "code",
   "execution_count": 61,
   "metadata": {},
   "outputs": [
    {
     "name": "stdout",
     "output_type": "stream",
     "text": [
      "List of students:  [2, 2, 3, 3, 4, 4, 5, 5]\n"
     ]
    }
   ],
   "source": [
    "# taking multiple inputs at a time\n",
    "# and type casting using list() function\n",
    "x = list(map(int, input(\"Enter multiple values: \").split()))\n",
    "print(\"List of students: \", x)"
   ]
  },
  {
   "cell_type": "code",
   "execution_count": 31,
   "metadata": {},
   "outputs": [
    {
     "name": "stdout",
     "output_type": "stream",
     "text": [
      "1 number:  5\n",
      "2 number:  6\n"
     ]
    }
   ],
   "source": [
    "#no condigo onde tem int(x) e o for x,  é basicamente para cada iteração ,  todos os resultados de input vao ser convertidos para Integer\n",
    "\n",
    "x, y = [int(x) for x in input (\"enter 2 values\").split()]\n",
    "print(\"1 number: \", x)\n",
    "print(\"2 number: \", y)"
   ]
  },
  {
   "cell_type": "code",
   "execution_count": 36,
   "metadata": {},
   "outputs": [
    {
     "name": "stdout",
     "output_type": "stream",
     "text": [
      "1 number:  4\n",
      "2 number:  55\n",
      "3 number:  6\n"
     ]
    }
   ],
   "source": [
    "\n",
    "\n",
    "x, y, t = [int(i) for i in input (\"insert 3 values: \").split()]\n",
    "print(\"1 number: \", x)\n",
    "print(\"2 number: \", y)\n",
    "print(\"3 number: \", t)"
   ]
  },
  {
   "cell_type": "code",
   "execution_count": 63,
   "metadata": {},
   "outputs": [
    {
     "name": "stdout",
     "output_type": "stream",
     "text": [
      "1 name:  luis\n",
      "2 name:  edurdo\n",
      "3 name:  sno\n"
     ]
    }
   ],
   "source": [
    "#o mesmo está a ser feito nesta linha de codigo so por dizer que neste caso, esta a ser convertido para string\n",
    "x, y, t = [str(x) for x in input (\"insert 3 names: \").split()]\n",
    "print(\"1 name: \", x)\n",
    "print(\"2 name: \", y)\n",
    "print(\"3 name: \", t)"
   ]
  },
  {
   "cell_type": "code",
   "execution_count": 38,
   "metadata": {},
   "outputs": [
    {
     "name": "stdout",
     "output_type": "stream",
     "text": [
      "1 name:  ['4', '55', '6', '55', '66', '7']\n"
     ]
    }
   ],
   "source": [
    "#podemos no mesmo input inserir varios valores,  e nao precisamos de colocar na mesma variavel\n",
    "x = [int(i) for i in input (\"insert 3 names: \").split()]\n",
    "print(\"1 name: \", x)"
   ]
  },
  {
   "cell_type": "code",
   "execution_count": 44,
   "metadata": {},
   "outputs": [
    {
     "name": "stdout",
     "output_type": "stream",
     "text": [
      "a sua altura é 85.0 e o seu peso 1.75 e o seu BMI é 48.57142857142857\n"
     ]
    }
   ],
   "source": [
    "a, p =[int(i) for i in input(\"inserir peso / altura\").split()]\n",
    "print(f'a sua altura é {a} e o seu peso {p} e o seu BMI é',a/p*10)"
   ]
  },
  {
   "cell_type": "code",
   "execution_count": 51,
   "metadata": {},
   "outputs": [
    {
     "name": "stdout",
     "output_type": "stream",
     "text": [
      "luis\n",
      " nogueira\n",
      " santos\n",
      " costa**"
     ]
    }
   ],
   "source": [
    "print(\"luis\\n nogueira\\n santos\\n costa\", end=\"**\")"
   ]
  },
  {
   "cell_type": "code",
   "execution_count": 64,
   "metadata": {},
   "outputs": [
    {
     "name": "stdout",
     "output_type": "stream",
     "text": [
      "3>>>2>>>1>>>START\n"
     ]
    }
   ],
   "source": [
    "#Ex1:  vamos construir um sistema de countdonw que faz o append dos valores na mesma linha, considerando ainda que a contagem tem de ser reversa. o output tem de ser parecer assim: 3>>>2>>>1>>>start\n",
    "\n",
    "import time\n",
    "#total de segundos a usar\n",
    "count_second =3\n",
    "#for para iterar pelos valores i e incrementando sempre mais 1 ao count_second\n",
    "for i in reversed(range(count_second +1)):\n",
    "    #no caso do valor ser maior que zero,  segue a contagem e no fim de cada insert, acrescenta >>>\n",
    "    if i > 0:\n",
    "        print(i, end=\">>>\")\n",
    "        #espera 1 segundo por cada insert\n",
    "        time.sleep(1)\n",
    "    else:\n",
    "        #quando as condiçoes de cima noa existirem usa start\n",
    "        print('START')"
   ]
  },
  {
   "cell_type": "code",
   "execution_count": 56,
   "metadata": {},
   "outputs": [
    {
     "name": "stdout",
     "output_type": "stream",
     "text": [
      "hoje é-24-5-2023\n"
     ]
    }
   ],
   "source": [
    "dia = input(\"inserir o dia\")\n",
    "mes = input(\"inserir o mes\")\n",
    "ano = input(\"inserir o ano\")\n",
    "\n",
    "print(\"hoje é\",dia,mes, ano,sep=\"-\")"
   ]
  },
  {
   "cell_type": "code",
   "execution_count": 57,
   "metadata": {},
   "outputs": [],
   "source": [
    "# usamos o open file quando precisamos que um output seja escrito no ficheiro,  para isso precisamos de usar o codigo exemplo que se segue.\n",
    "\n",
    "print(\"welcome lyis\",file=open('testfole.txt','w'))"
   ]
  },
  {
   "cell_type": "code",
   "execution_count": 68,
   "metadata": {},
   "outputs": [
    {
     "name": "stdout",
     "output_type": "stream",
     "text": [
      "geeks geeksforgeeks\n",
      "1 2 3 4 10 20 30 40\n"
     ]
    }
   ],
   "source": [
    "# PRINT WITHOUT NEW LINE\n",
    "\n",
    "# # Python 3 code for printing\n",
    "# on the same line printing\n",
    "# geeks and geeksforgeeks\n",
    "# in the same line\n",
    " \n",
    "print(\"geeks\", end =\" \")\n",
    "print(\"geeksforgeeks\")\n",
    " \n",
    "# array\n",
    "a = [1, 2, 3, 4]\n",
    " \n",
    "# printing a element in same\n",
    "# line\n",
    "for i in range(4):\n",
    "    print(a[i], end =\" \")\n",
    "    \n",
    "\n",
    "# Sem precisar do for\n",
    "\n",
    "l = [10, 20, 30, 40]\n",
    "print(*l)"
   ]
  },
  {
   "cell_type": "code",
   "execution_count": 69,
   "metadata": {},
   "outputs": [
    {
     "name": "stdout",
     "output_type": "stream",
     "text": [
      "geekforgeekis bullshit"
     ]
    },
    {
     "data": {
      "text/plain": [
       "11"
      ]
     },
     "execution_count": 69,
     "metadata": {},
     "output_type": "execute_result"
    }
   ],
   "source": [
    "# import sys module,  apenas funciona com o str se tentar colocar outro data type vou ter erro\n",
    "\n",
    "\n",
    "import sys\n",
    "\n",
    "sys.stdout.write(\"geekforgeek\")\n",
    "sys.stdout.write(\"is bullshit\")"
   ]
  },
  {
   "cell_type": "code",
   "execution_count": 71,
   "metadata": {},
   "outputs": [
    {
     "name": "stdout",
     "output_type": "stream",
     "text": [
      "Welcome to GeeksforGeeks luis@gmail.com "
     ]
    }
   ],
   "source": [
    "# end param in print\n",
    "\n",
    "# ends the output with a space\n",
    "print(\"Welcome to\", end = ' ')\n",
    "print(\"GeeksforGeeks\", end= ' ')\n",
    "\n",
    "\n",
    "\n",
    "print(\"luis\", end = '@')\n",
    "print(\"gmail.com\", end= ' ')"
   ]
  },
  {
   "cell_type": "code",
   "execution_count": 72,
   "metadata": {},
   "outputs": [
    {
     "name": "stdout",
     "output_type": "stream",
     "text": [
      "GFG\n",
      "09-12-2016\n",
      "Red,Green,Blue@geeksforgeeks\n"
     ]
    }
   ],
   "source": [
    "print('G','F', sep='', end='')\n",
    "print('G')\n",
    "#\\n provides new line after printing the year\n",
    "print('09','12','2016', sep='-', end='\\n')\n",
    "  \n",
    "print('Red','Green','Blue', sep=',', end='@')\n",
    "print('geeksforgeeks')"
   ]
  },
  {
   "cell_type": "code",
   "execution_count": 74,
   "metadata": {},
   "outputs": [
    {
     "name": "stdout",
     "output_type": "stream",
     "text": [
      "My name is luis and I am 30 years old. Nice to meet you!\n"
     ]
    }
   ],
   "source": [
    "name = \"luis\"\n",
    "age = 30\n",
    "print(\"My name is\", name, \"and I am\", age, \"years old.\", end=\" \")\n",
    "print(\"Nice to meet you!\")"
   ]
  },
  {
   "cell_type": "code",
   "execution_count": 75,
   "metadata": {},
   "outputs": [
    {
     "name": "stdout",
     "output_type": "stream",
     "text": [
      "apples, oranges, bananas\n",
      "one;two;three\n",
      "????????????????????\n"
     ]
    }
   ],
   "source": [
    "#sep\n",
    "\n",
    "# using a comma separator\n",
    "print('apples', 'oranges', 'bananas', sep=', ')\n",
    "# output: apples, oranges, bananas\n",
    " \n",
    "# using a semicolon separator\n",
    "print('one', 'two', 'three', sep=';')\n",
    "# output: one;two;three\n",
    " \n",
    "# using an emoji separator\n",
    "print('????', '????', '????', sep='????')\n",
    "# output: ????????????????????"
   ]
  },
  {
   "cell_type": "code",
   "execution_count": 76,
   "metadata": {},
   "outputs": [
    {
     "name": "stdout",
     "output_type": "stream",
     "text": [
      "Geeks :  1, Portal :  5.33\n",
      "Total students : 240, Boys : 120\n",
      "    031\n",
      " 3.561E+02\n"
     ]
    }
   ],
   "source": [
    "#output format\n",
    "\n",
    "# Python program showing how to use\n",
    "# string modulo operator(%) to print\n",
    "# fancier output\n",
    " \n",
    "# print integer and float value\n",
    "print(\"Geeks : %2d, Portal : %5.2f\" % (1, 05.333))\n",
    " \n",
    "# print integer value\n",
    "print(\"Total students : %3d, Boys : %2d\" % (240, 120))\n",
    " \n",
    "# print octal value\n",
    "print(\"%7.3o\" % (25))\n",
    " \n",
    "# print exponential value\n",
    "print(\"%10.3E\" % (356.08977))"
   ]
  },
  {
   "cell_type": "code",
   "execution_count": 77,
   "metadata": {},
   "outputs": [
    {
     "name": "stdout",
     "output_type": "stream",
     "text": [
      "Second argument:  11, first one:   47.42\n"
     ]
    }
   ],
   "source": [
    "# Changing positional argument\n",
    "\n",
    "# o index aparece no inicio,  sendo que o ultimo argumento está com o index 0, logo vai ser o primeiro a ser apesentado\n",
    "print(\"Second argument: {1:3d}, first one: {0:7.2f}\".\n",
    "      format(47.42, 11))"
   ]
  },
  {
   "cell_type": "code",
   "execution_count": 78,
   "metadata": {},
   "outputs": [
    {
     "name": "stdout",
     "output_type": "stream",
     "text": [
      "Center aligned string with fillchr: \n",
      "##########I love geeksforgeeks##########\n",
      "The left aligned string is : \n",
      "I love geeksforgeeks--------------------\n",
      "The right aligned string is : \n",
      "--------------------I love geeksforgeeks\n"
     ]
    }
   ],
   "source": [
    "# Python program to\n",
    "# format a output using\n",
    "# string() method\n",
    "\n",
    "cstr = \"I love geeksforgeeks\"\n",
    "\n",
    "# Printing the center aligned\n",
    "# string with fillchr\n",
    "print (\"Center aligned string with fillchr: \")\n",
    "print (cstr.center(40, '#'))\n",
    "\n",
    "# Printing the left aligned\n",
    "# string with \"-\" padding\n",
    "print (\"The left aligned string is : \")\n",
    "print (cstr.ljust(40, '-'))\n",
    "\n",
    "# Printing the right aligned string\n",
    "# with \"-\" padding\n",
    "print (\"The right aligned string is : \")\n",
    "print (cstr.rjust(40, '-'))\n"
   ]
  }
 ],
 "metadata": {
  "kernelspec": {
   "display_name": "Python 3",
   "language": "python",
   "name": "python3"
  },
  "language_info": {
   "codemirror_mode": {
    "name": "ipython",
    "version": 3
   },
   "file_extension": ".py",
   "mimetype": "text/x-python",
   "name": "python",
   "nbconvert_exporter": "python",
   "pygments_lexer": "ipython3",
   "version": "3.10.2"
  },
  "orig_nbformat": 4
 },
 "nbformat": 4,
 "nbformat_minor": 2
}
