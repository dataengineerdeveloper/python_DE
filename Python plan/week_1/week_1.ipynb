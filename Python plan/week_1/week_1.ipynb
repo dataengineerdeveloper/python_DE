{
 "cells": [
  {
   "cell_type": "code",
   "execution_count": 2,
   "metadata": {},
   "outputs": [
    {
     "name": "stdout",
     "output_type": "stream",
     "text": [
      "test\n"
     ]
    }
   ],
   "source": [
    "val = input(\"enter soemthing\\n\")\n",
    "print(val)\n",
    "\n"
   ]
  },
  {
   "cell_type": "code",
   "execution_count": 3,
   "metadata": {},
   "outputs": [
    {
     "name": "stdout",
     "output_type": "stream",
     "text": [
      "2\n",
      "3\n",
      "type of number <class 'str'>\n",
      "type of name <class 'str'>\n"
     ]
    }
   ],
   "source": [
    "# Program to check input\n",
    "# type in Python\n",
    " \n",
    "num = input (\"Enter number :\")\n",
    "print(num)\n",
    "name1 = input(\"Enter name : \")\n",
    "print(name1)\n",
    " \n",
    "# Printing type of input value\n",
    "print (\"type of number\", type(num))\n",
    "print (\"type of name\", type(name1))"
   ]
  },
  {
   "cell_type": "code",
   "execution_count": 15,
   "metadata": {},
   "outputs": [
    {
     "name": "stdout",
     "output_type": "stream",
     "text": [
      "your number is  4 and the type is <class 'int'>\n",
      "your name is  luis and the type is <class 'str'>\n"
     ]
    }
   ],
   "source": [
    "num = int(input(\"Enter a number: \"))\n",
    "\n",
    "\"\"\"\n",
    "print do input value mais indicação do tipo de dados\n",
    "\"\"\"\n",
    "print(\"your number is \", num ,  \"and the type is\", type(num))\n",
    "\n",
    "num = str(input(\"Enter a name: \"))\n",
    "\n",
    "\"\"\"\n",
    "print do input value mais indicação do tipo de dados\n",
    "\"\"\"\n",
    "print(\"your name is \", num ,  \"and the type is\", type(num))"
   ]
  },
  {
   "cell_type": "code",
   "execution_count": 17,
   "metadata": {},
   "outputs": [
    {
     "name": "stdout",
     "output_type": "stream",
     "text": [
      "5\n"
     ]
    }
   ],
   "source": [
    "#multiplos inputs - numeros\n",
    "\n",
    "\n",
    "inp1 = int(input())\n",
    "inp2 = int(input())\n",
    "\n",
    "total = (inp1+inp2)\n",
    "print(total)"
   ]
  },
  {
   "cell_type": "code",
   "execution_count": 22,
   "metadata": {},
   "outputs": [
    {
     "name": "stdout",
     "output_type": "stream",
     "text": [
      "luis ed\n"
     ]
    }
   ],
   "source": [
    "#multiplos inputs - nomes\n",
    "\n",
    "inp1 = str(input())\n",
    "inp2 = str(input())\n",
    "\n",
    "total = (inp1+' '+inp2)\n",
    "print(total)"
   ]
  },
  {
   "cell_type": "code",
   "execution_count": 26,
   "metadata": {},
   "outputs": [
    {
     "name": "stdout",
     "output_type": "stream",
     "text": [
      "number of boys are:  4\n",
      "number of girls are:  5\n",
      "number of studenets are:  6\n"
     ]
    }
   ],
   "source": [
    "#possibilidade de inserir multiplos input\n",
    "# a ideia nesta caso é conseguir passar no mesmo input 2 numero seguidos, contudo é necessario das espaço\n",
    "\n",
    "\n",
    "x, y, t = input(\"enter 2 values: \").split()\n",
    "print(\"number of boys are: \", x)\n",
    "print(\"number of girls are: \", y)\n",
    "print(\"number of studenets are: \", t)\n",
    "\n"
   ]
  },
  {
   "cell_type": "code",
   "execution_count": 27,
   "metadata": {},
   "outputs": [
    {
     "name": "stdout",
     "output_type": "stream",
     "text": [
      "first number 4 and second numner is 5\n"
     ]
    }
   ],
   "source": [
    "#exatamento o mesmo de cima,  mas nesta caso estou a usar o format string\n",
    "a, b =  input(\"enter 2 values: \").split()\n",
    "print(f'first number {a} and second numner is {b}')\n"
   ]
  },
  {
   "cell_type": "code",
   "execution_count": 30,
   "metadata": {},
   "outputs": [
    {
     "name": "stdout",
     "output_type": "stream",
     "text": [
      "List of students:  [1, 23, 2, 22, 33]\n"
     ]
    }
   ],
   "source": [
    "# taking multiple inputs at a time\n",
    "# and type casting using list() function\n",
    "x = list(map(int, input(\"Enter multiple values: \").split()))\n",
    "print(\"List of students: \", x)"
   ]
  },
  {
   "cell_type": "code",
   "execution_count": 31,
   "metadata": {},
   "outputs": [
    {
     "name": "stdout",
     "output_type": "stream",
     "text": [
      "1 number:  5\n",
      "2 number:  6\n"
     ]
    }
   ],
   "source": [
    "#no condigo onde tem int(x) e o for x,  é basicamente para cada iteração ,  todos os resultados de input vao ser convertidos para Integer\n",
    "\n",
    "x, y = [int(x) for x in input (\"enter 2 values\").split()]\n",
    "print(\"1 number: \", x)\n",
    "print(\"2 number: \", y)"
   ]
  },
  {
   "cell_type": "code",
   "execution_count": 36,
   "metadata": {},
   "outputs": [
    {
     "name": "stdout",
     "output_type": "stream",
     "text": [
      "1 number:  4\n",
      "2 number:  55\n",
      "3 number:  6\n"
     ]
    }
   ],
   "source": [
    "\n",
    "\n",
    "x, y, t = [int(i) for i in input (\"insert 3 values: \").split()]\n",
    "print(\"1 number: \", x)\n",
    "print(\"2 number: \", y)\n",
    "print(\"3 number: \", t)"
   ]
  },
  {
   "cell_type": "code",
   "execution_count": 39,
   "metadata": {},
   "outputs": [
    {
     "ename": "ValueError",
     "evalue": "not enough values to unpack (expected 3, got 1)",
     "output_type": "error",
     "traceback": [
      "\u001b[1;31m---------------------------------------------------------------------------\u001b[0m",
      "\u001b[1;31mValueError\u001b[0m                                Traceback (most recent call last)",
      "\u001b[1;32mc:\\UserData\\z004hedj\\OneDrive - Siemens AG\\Ambiente de Trabalho\\GIT\\python_DE\\python_DE\\Python plan\\week_1\\week_1.ipynb Cell 11\u001b[0m in \u001b[0;36m<cell line: 2>\u001b[1;34m()\u001b[0m\n\u001b[0;32m      <a href='vscode-notebook-cell:/c%3A/UserData/z004hedj/OneDrive%20-%20Siemens%20AG/Ambiente%20de%20Trabalho/GIT/python_DE/python_DE/Python%20plan/week_1/week_1.ipynb#X15sZmlsZQ%3D%3D?line=0'>1</a>\u001b[0m \u001b[39m#o mesmo está a ser feito nesta linha de codigo so por dizer que neste caso, esta a ser convertido para string\u001b[39;00m\n\u001b[1;32m----> <a href='vscode-notebook-cell:/c%3A/UserData/z004hedj/OneDrive%20-%20Siemens%20AG/Ambiente%20de%20Trabalho/GIT/python_DE/python_DE/Python%20plan/week_1/week_1.ipynb#X15sZmlsZQ%3D%3D?line=1'>2</a>\u001b[0m x, y, t \u001b[39m=\u001b[39m [\u001b[39mstr\u001b[39m(x) \u001b[39mfor\u001b[39;00m x \u001b[39min\u001b[39;00m \u001b[39minput\u001b[39m (\u001b[39m\"\u001b[39m\u001b[39minsert 3 names: \u001b[39m\u001b[39m\"\u001b[39m)\u001b[39m.\u001b[39msplit()]\n\u001b[0;32m      <a href='vscode-notebook-cell:/c%3A/UserData/z004hedj/OneDrive%20-%20Siemens%20AG/Ambiente%20de%20Trabalho/GIT/python_DE/python_DE/Python%20plan/week_1/week_1.ipynb#X15sZmlsZQ%3D%3D?line=2'>3</a>\u001b[0m \u001b[39mprint\u001b[39m(\u001b[39m\"\u001b[39m\u001b[39m1 name: \u001b[39m\u001b[39m\"\u001b[39m, x)\n\u001b[0;32m      <a href='vscode-notebook-cell:/c%3A/UserData/z004hedj/OneDrive%20-%20Siemens%20AG/Ambiente%20de%20Trabalho/GIT/python_DE/python_DE/Python%20plan/week_1/week_1.ipynb#X15sZmlsZQ%3D%3D?line=3'>4</a>\u001b[0m \u001b[39mprint\u001b[39m(\u001b[39m\"\u001b[39m\u001b[39m2 name: \u001b[39m\u001b[39m\"\u001b[39m, y)\n",
      "\u001b[1;31mValueError\u001b[0m: not enough values to unpack (expected 3, got 1)"
     ]
    }
   ],
   "source": [
    "#o mesmo está a ser feito nesta linha de codigo so por dizer que neste caso, esta a ser convertido para string\n",
    "x, y, t = [str(x) for x in input (\"insert 3 names: \").split()]\n",
    "print(\"1 name: \", x)\n",
    "print(\"2 name: \", y)\n",
    "print(\"3 name: \", t)"
   ]
  },
  {
   "cell_type": "code",
   "execution_count": 38,
   "metadata": {},
   "outputs": [
    {
     "name": "stdout",
     "output_type": "stream",
     "text": [
      "1 name:  ['4', '55', '6', '55', '66', '7']\n"
     ]
    }
   ],
   "source": [
    "#podemos no mesmo input inserir varios valores,  e nao precisamos de colocar na mesma variavel\n",
    "x = [int(i) for i in input (\"insert 3 names: \").split()]\n",
    "print(\"1 name: \", x)"
   ]
  },
  {
   "cell_type": "code",
   "execution_count": 44,
   "metadata": {},
   "outputs": [
    {
     "name": "stdout",
     "output_type": "stream",
     "text": [
      "a sua altura é 85.0 e o seu peso 1.75 e o seu BMI é 48.57142857142857\n"
     ]
    }
   ],
   "source": [
    "a, p =[int(i) for i in input(\"inserir peso / altura\").split()]\n",
    "print(f'a sua altura é {a} e o seu peso {p} e o seu BMI é',a/p*10)"
   ]
  },
  {
   "cell_type": "code",
   "execution_count": 51,
   "metadata": {},
   "outputs": [
    {
     "name": "stdout",
     "output_type": "stream",
     "text": [
      "luis\n",
      " nogueira\n",
      " santos\n",
      " costa**"
     ]
    }
   ],
   "source": [
    "print(\"luis\\n nogueira\\n santos\\n costa\", end=\"**\")"
   ]
  },
  {
   "cell_type": "code",
   "execution_count": 54,
   "metadata": {},
   "outputs": [
    {
     "name": "stdout",
     "output_type": "stream",
     "text": [
      "5>>>4>>>3>>>2>>>1>>>start\n"
     ]
    }
   ],
   "source": [
    "#Ex1:  vamos construir um sistema de countdonw que faz o append dos valores na mesma linha, considerando ainda que a contagem tem de ser reversa. o output tem de ser parecer assim: 3>>>2>>>1>>>start\n",
    "\n",
    "import time\n",
    "#total de segundos a usar\n",
    "count_second =3\n",
    "#for para iterar pelos valores i e incrementando sempre mais 1 ao count_second\n",
    "for i in reversed(range(count_second +1)):\n",
    "    #no caso do valor ser maior que zero,  segue a contagem e no fim de cada insert, acrescenta >>>\n",
    "    if i > 0:\n",
    "        print(i, end=\">>>\")\n",
    "        #espera 1 segundo por cada insert\n",
    "        time.sleep(1)\n",
    "    else:\n",
    "        #quando as condiçoes de cima noa existirem usa start\n",
    "        print('START')"
   ]
  },
  {
   "cell_type": "code",
   "execution_count": 56,
   "metadata": {},
   "outputs": [
    {
     "name": "stdout",
     "output_type": "stream",
     "text": [
      "hoje é-24-5-2023\n"
     ]
    }
   ],
   "source": [
    "dia = input(\"inserir o dia\")\n",
    "mes = input(\"inserir o mes\")\n",
    "ano = input(\"inserir o ano\")\n",
    "\n",
    "print(\"hoje é\",dia,mes, ano,sep=\"-\")"
   ]
  },
  {
   "cell_type": "code",
   "execution_count": 57,
   "metadata": {},
   "outputs": [],
   "source": [
    "# usamos o open file quando precisamos que um output seja escrito no ficheiro,  para isso precisamos de usar o codigo exemplo que se segue.\n",
    "\n",
    "print(\"welcome lyis\",file=open('testfole.txt','w'))"
   ]
  }
 ],
 "metadata": {
  "kernelspec": {
   "display_name": "Python 3",
   "language": "python",
   "name": "python3"
  },
  "language_info": {
   "codemirror_mode": {
    "name": "ipython",
    "version": 3
   },
   "file_extension": ".py",
   "mimetype": "text/x-python",
   "name": "python",
   "nbconvert_exporter": "python",
   "pygments_lexer": "ipython3",
   "version": "3.10.2"
  },
  "orig_nbformat": 4
 },
 "nbformat": 4,
 "nbformat_minor": 2
}
