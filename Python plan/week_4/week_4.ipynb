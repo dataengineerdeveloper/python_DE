{
 "cells": [
  {
   "cell_type": "code",
   "execution_count": 7,
   "metadata": {},
   "outputs": [
    {
     "name": "stdout",
     "output_type": "stream",
     "text": [
      "b greater then a\n"
     ]
    }
   ],
   "source": [
    "a =20\n",
    "b =30\n",
    "\n",
    "if a>b:\n",
    "\tprint(\"a greater than b\")\n",
    "elif a == b:\n",
    "\tprint(\"equal\")\n",
    "else:\n",
    "\tprint(\"b greater then a\")"
   ]
  },
  {
   "cell_type": "code",
   "execution_count": null,
   "metadata": {},
   "outputs": [],
   "source": [
    "# nested if statament\n",
    "\n",
    "a=20\n",
    "b=30\n",
    "c=50\n",
    "\n",
    "if a > b:\n",
    "    if a>c:\n",
    "        print(\"a is the largest\")\n",
    "    else:\n",
    "        print(\"c is the largest\")\n",
    "else:\n",
    "    if b > c:\n",
    "        print(\"b is the largest\")\n",
    "    else:\n",
    "        print(\"c is the largest\")"
   ]
  },
  {
   "cell_type": "code",
   "execution_count": null,
   "metadata": {},
   "outputs": [],
   "source": [
    "# for loop\n",
    "'''\n",
    "defenição um loop é usado para iterar numa sequencia,  estas sequencia por ser uma list,  tuples, dictionaru,  set ou string\n",
    "\n",
    "'''\n",
    "\n",
    "for x in \"luis\":\n",
    "    print(x)\n",
    "\n",
    "#no caso de especificar uma range,  consigo fazer indicar em qual numero vai começar e onde vai terminar, no exemplo indico que vou começar no num 1 e termina no numero 10,  apesar de estar 11.\n",
    "for x in range(1,11):\n",
    "    print(x)\n",
    "\n",
    "\n",
    "# pode ser usado ainda dentro de um for um else:\n",
    "# o elesa vai ser executado assim que termine o for\n",
    "for x in range(10):\n",
    "    print(x)\n",
    "else:\n",
    "    print(\"completed\")\n",
    "\n"
   ]
  },
  {
   "cell_type": "code",
   "execution_count": 15,
   "metadata": {},
   "outputs": [
    {
     "name": "stdout",
     "output_type": "stream",
     "text": [
      "1\n",
      "2\n",
      "1\n",
      "2\n",
      "4\n",
      "1\n",
      "2\n",
      "sachin figo\n",
      "sachin roanldo\n",
      "sachin messi\n",
      "outerloop\n",
      "viral figo\n",
      "viral roanldo\n",
      "viral messi\n",
      "outerloop\n",
      "dhoni figo\n",
      "dhoni roanldo\n",
      "dhoni messi\n",
      "outerloop\n"
     ]
    }
   ],
   "source": [
    "#BREAK\n",
    "\n",
    "pl = [1,2,3,4]\n",
    "\n",
    "# vai parar antes do 3,  poeque essa é a condição do nloop antes do break if x ==3\n",
    "for x in pl:\n",
    "    if x ==3:\n",
    "        break\n",
    "    print(x)\n",
    "    \n",
    "#CONTINUE\n",
    "pl = [1,2,3,4]\n",
    "\n",
    "#a ideia é que aqui neste caso faça o skip do numero 3 e continue o loop\n",
    "for x in pl:\n",
    "    if x ==3:\n",
    "        continue\n",
    "    print(x)\n",
    "    \n",
    "\n",
    "#FOR ELSE\n",
    "\n",
    "for x in pl:\n",
    "    if x ==3:\n",
    "        break\n",
    "    print(x)\n",
    "else:\n",
    "    print(\"compled\")\n",
    "    \n",
    "        \n",
    "'''\n",
    "NESTED LOOPS\n",
    "''' \n",
    "cp = ['sachin','viral','dhoni']\n",
    "fp = ['figo','roanldo','messi']\n",
    "\n",
    "for c in cp:\n",
    "    for f in fp:\n",
    "        print(c,f)\n",
    "    print(\"outerloop\")\n"
   ]
  },
  {
   "cell_type": "code",
   "execution_count": 17,
   "metadata": {},
   "outputs": [
    {
     "name": "stdout",
     "output_type": "stream",
     "text": [
      "sachin figo\n",
      "sachin roanldo\n",
      "outerloop\n",
      "viral figo\n",
      "viral roanldo\n",
      "outerloop\n",
      "dhoni figo\n",
      "dhoni roanldo\n",
      "outerloop\n"
     ]
    }
   ],
   "source": [
    "'''\n",
    "NESTED LOOPS\n",
    "''' \n",
    "cp = ['sachin','viral','dhoni']\n",
    "fp = ['figo','roanldo','messi']\n",
    "\n",
    "for c in cp:\n",
    "    for f in fp:\n",
    "        # com esta nova condição o messi nao vao aparecer,  apenas os 2 restantes.\n",
    "        if f == 'messi':\n",
    "            break\n",
    "        print(c,f)\n",
    "    print(\"outerloop\")\n",
    "    \n",
    "    \n",
    "    '''\n",
    "    NOTA: no caso de nao ter nenhum conteudo para colocar dentro de um for loop,  posso sempre usar o PASS\n",
    "    \n",
    "    '''"
   ]
  },
  {
   "cell_type": "code",
   "execution_count": 22,
   "metadata": {},
   "outputs": [
    {
     "name": "stdout",
     "output_type": "stream",
     "text": [
      "python\n",
      "python\n",
      "python\n",
      "python\n",
      "python\n"
     ]
    }
   ],
   "source": [
    "'''\n",
    "while loop\n",
    "\n",
    "é um bloco de codigo que corre em sequencia e que apenas terminar quando a condição definida é alcançada.\n",
    "'''\n",
    "\n",
    "i = 0\n",
    "\n",
    "while i < 5:\n",
    "    i+=1\n",
    "    print(\"python\")\n",
    "    "
   ]
  },
  {
   "cell_type": "code",
   "execution_count": 23,
   "metadata": {},
   "outputs": [
    {
     "name": "stdout",
     "output_type": "stream",
     "text": [
      "1\n",
      "2\n",
      "3\n",
      "4\n",
      "5\n"
     ]
    }
   ],
   "source": [
    "#while using break\n",
    "\n",
    "i = 1\n",
    "\n",
    "while i < 10:\n",
    "    print(i)\n",
    "    if i == 5:\n",
    "        break\n",
    "    i+=1"
   ]
  },
  {
   "cell_type": "code",
   "execution_count": 26,
   "metadata": {},
   "outputs": [
    {
     "name": "stdout",
     "output_type": "stream",
     "text": [
      "1\n",
      "2\n",
      "3\n",
      "4\n",
      "6\n",
      "7\n",
      "8\n",
      "9\n",
      "10\n"
     ]
    }
   ],
   "source": [
    "#while using break\n",
    "\n",
    "i = 0\n",
    "\n",
    "while i < 10:\n",
    "    i+=1\n",
    "    if i == 5:\n",
    "        continue\n",
    "    print(i)\n",
    "    "
   ]
  },
  {
   "cell_type": "code",
   "execution_count": 27,
   "metadata": {},
   "outputs": [
    {
     "name": "stdout",
     "output_type": "stream",
     "text": [
      "1\n",
      "4\n",
      "9\n",
      "16\n",
      "25\n"
     ]
    }
   ],
   "source": [
    "#square upto n numbers\n",
    "\n",
    "n=1\n",
    "while n <=5:\n",
    "    square= n**2\n",
    "    print(square)\n",
    "    n+=1"
   ]
  },
  {
   "cell_type": "code",
   "execution_count": 31,
   "metadata": {},
   "outputs": [
    {
     "name": "stdout",
     "output_type": "stream",
     "text": [
      "223\n"
     ]
    }
   ],
   "source": [
    "list = [4,32,90,76,21]\n",
    "#declarar todas as variaveis presentes no while\n",
    "i = 0\n",
    "sum= 0\n",
    "\n",
    "#validar o length dos valores que estao na lista,  no caso de nao existir mais o ciclo while termina\n",
    "while i<len(list):\n",
    "    sum+=list[i]\n",
    "    i+=1\n",
    "print(sum)"
   ]
  },
  {
   "cell_type": "code",
   "execution_count": 32,
   "metadata": {},
   "outputs": [
    {
     "name": "stdout",
     "output_type": "stream",
     "text": [
      "*\n",
      "**\n",
      "***\n",
      "****\n",
      "*****\n"
     ]
    }
   ],
   "source": [
    "i =1\n",
    "while i<6:\n",
    "    j=0\n",
    "    while j<i:\n",
    "        print('*',end ='')\n",
    "        j=j+1\n",
    "    print()\n",
    "    i=i+1"
   ]
  }
 ],
 "metadata": {
  "kernelspec": {
   "display_name": "Python 3",
   "language": "python",
   "name": "python3"
  },
  "language_info": {
   "codemirror_mode": {
    "name": "ipython",
    "version": 3
   },
   "file_extension": ".py",
   "mimetype": "text/x-python",
   "name": "python",
   "nbconvert_exporter": "python",
   "pygments_lexer": "ipython3",
   "version": "3.10.2"
  },
  "orig_nbformat": 4
 },
 "nbformat": 4,
 "nbformat_minor": 2
}
