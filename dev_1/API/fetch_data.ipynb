{
 "cells": [
  {
   "cell_type": "code",
   "execution_count": 2,
   "metadata": {},
   "outputs": [
    {
     "name": "stdout",
     "output_type": "stream",
     "text": [
      "done\n"
     ]
    }
   ],
   "source": [
    "#fetch api data into CSV\n",
    "\n",
    "#https://www.youtube.com/watch?v=bHCHKeJ6bI8\n",
    "\n",
    "\n",
    "import requests\n",
    "import csv\n",
    "\n",
    "url = 'http://api.coincap.io/v2/assets'\n",
    "\n",
    "headers = {\n",
    "    'Accept':'application/json',\n",
    "    'Content-Type':'application/json'   \n",
    "}\n",
    "\n",
    "response = requests.request(\"GET\", url,headers=headers,data={})\n",
    "myjson =response.json()\n",
    "ourdata = []\n",
    "csvheader = ['SYMBOL','NAME','PRICE(USD)']\n",
    "\n",
    "\n",
    "for x in myjson['data']:\n",
    "    listing = [x['symbol'],x['name'],x['priceUsd']]\n",
    "    ourdata.append(listing)\n",
    "    \n",
    "with open('crypto.csav','w', encoding='UTF8',newline='') as f:\n",
    "    writer =csv.writer(f)\n",
    "\n",
    "    writer.writerow(csvheader)\n",
    "    writer.writerows(ourdata)\n",
    "\n",
    "print('done')\n",
    "\n",
    "\n"
   ]
  },
  {
   "cell_type": "code",
   "execution_count": 11,
   "metadata": {},
   "outputs": [
    {
     "name": "stdout",
     "output_type": "stream",
     "text": [
      "Mr. Ítalo Almeida\n",
      "age:69\n"
     ]
    }
   ],
   "source": [
    "#random user api > test to fetch user names\n",
    "\n",
    "import requests\n",
    "\n",
    "response = requests.get('https://randomuser.me/api')\n",
    "#print(response.status_code)\n",
    "#print(response.json())\n",
    "\n",
    "gender = response.json()['results'][0]['gender']\n",
    "title = response.json()['results'][0]['name']['title']\n",
    "first_name = response.json()['results'][0]['name']['first']\n",
    "last_name = response.json()['results'][0]['name']['last']\n",
    "age = response.json()['results'][0]['dob']['age']\n",
    "\n",
    "print(f'{title}. {first_name} {last_name}')\n",
    "print(f'age:{age}')\n"
   ]
  },
  {
   "cell_type": "code",
   "execution_count": null,
   "metadata": {},
   "outputs": [],
   "source": []
  }
 ],
 "metadata": {
  "kernelspec": {
   "display_name": "Python 3",
   "language": "python",
   "name": "python3"
  },
  "language_info": {
   "codemirror_mode": {
    "name": "ipython",
    "version": 3
   },
   "file_extension": ".py",
   "mimetype": "text/x-python",
   "name": "python",
   "nbconvert_exporter": "python",
   "pygments_lexer": "ipython3",
   "version": "3.10.2"
  },
  "orig_nbformat": 4
 },
 "nbformat": 4,
 "nbformat_minor": 2
}
