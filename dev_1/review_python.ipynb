{
 "cells": [
  {
   "cell_type": "code",
   "execution_count": 16,
   "metadata": {},
   "outputs": [
    {
     "name": "stdout",
     "output_type": "stream",
     "text": [
      "------ index strings\n",
      "t\n",
      "e\n",
      "a\n",
      "------ reverse index\n",
      "a\n",
      "e\n",
      "t\n",
      "------ member string\n",
      "True\n",
      "False\n",
      "------ member string\n",
      "True\n",
      "------ mudar de linha\n",
      "aqui conseguimos\n",
      "mudar de linha\n",
      "------ using upper and lower\n",
      "AQUI CONSEGUIMOS\n",
      "MUDAR DE LINHA\n",
      "aqui conseguimos\n",
      "mudar de linha\n",
      "Aqui conseguimos\n",
      "mudar de linha\n",
      "aqui tonseguimos\n",
      "mudar de linha\n",
      "------ format without variabels included\n",
      "my names is luis ansd i am 23\n",
      "------ format with variabels\n",
      "my names is luis ansd i am 23\n",
      "------ string formating\n",
      "1 + 2 = 3\n",
      "1 * 2 = 2\n",
      "1 - 2 = -1\n",
      "1 / 2 = 0.5\n"
     ]
    }
   ],
   "source": [
    "## pontos para rever\n",
    "\n",
    "#indexing > para indicar a posição da variavel,  sendo que a primeira letra é sempre a posição 0\n",
    "tea=\"tea\"\n",
    "print(\"------ index strings\")\n",
    "print(tea[0])\n",
    "print(tea[1])\n",
    "print(tea[2])\n",
    "\n",
    "print(\"------ reverse index\")\n",
    "#pode ser feito o reverse\n",
    "print(tea[-1])\n",
    "print(tea[-2])\n",
    "print(tea[-3])\n",
    "\n",
    "\n",
    "# aqui vamos ter um resultado boolean, onde se vai validar se o elemento existe dentro da variavel\n",
    "print(\"------ member string\")\n",
    "print(\"t\" in tea)\n",
    "print(\"q\" in tea)\n",
    "\n",
    "tea2 = \"tea\"\n",
    "#string comparison\n",
    "print(\"------ member string\")\n",
    "print(tea2 == tea)\n",
    "\n",
    "#\\n para mudar de linha\n",
    "print(\"------ mudar de linha\")\n",
    "linha = \"aqui conseguimos\\nmudar de linha\"\n",
    "print(linha)\n",
    "\n",
    "\n",
    "print(\"------ using upper and lower\")\n",
    "print(linha.upper())\n",
    "print(linha.lower())\n",
    "print(linha.capitalize())\n",
    "print(linha.replace('c','t'))\n",
    "\n",
    "\n",
    "\n",
    "\n",
    "print(\"------ format without variabels included\")\n",
    "\n",
    "sentence = \"my names is {} ansd i am {}\".format(\"luis\",23)\n",
    "print(sentence)\n",
    "\n",
    "\n",
    "print(\"------ format with variabels\")\n",
    "\n",
    "name= \"luis\"\n",
    "age =  23\n",
    "sentence = \"my names is {} ansd i am {}\".format(name,age)\n",
    "print(sentence)\n",
    "\n",
    "#string format\n",
    "a =1\n",
    "b =2\n",
    "c =3\n",
    "d =4\n",
    "\n",
    "print(\"------ string formating\")\n",
    "\n",
    "print(f\"{a} + {b} = {a+b}\")\n",
    "print(f\"{a} * {b} = {a*b}\")\n",
    "print(f\"{a} - {b} = {a-b}\")\n",
    "print(f\"{a} / {b} = {a/b}\")"
   ]
  },
  {
   "cell_type": "code",
   "execution_count": 17,
   "metadata": {},
   "outputs": [
    {
     "name": "stdout",
     "output_type": "stream",
     "text": [
      "1000.7\n",
      "1001.0\n"
     ]
    }
   ],
   "source": [
    "# round\n",
    "\n",
    "num = 1000.678098\n",
    "print(round(num,1))\n",
    "print(round(num,0))"
   ]
  },
  {
   "attachments": {},
   "cell_type": "markdown",
   "metadata": {},
   "source": [
    "Exercicio 1\n"
   ]
  },
  {
   "cell_type": "code",
   "execution_count": 19,
   "metadata": {},
   "outputs": [
    {
     "name": "stdout",
     "output_type": "stream",
     "text": [
      "<class 'int'>\n",
      "<class 'int'>\n",
      "the base if base is 5 and the height 8 and the are total is 20.0\n"
     ]
    }
   ],
   "source": [
    "base = int(input(\"insert base value: \"))\n",
    "height = int(input(\"insert height value: \"))\n",
    "\n",
    "print(type(base))\n",
    "print(type(height))\n",
    "\n",
    "area = 0.5 *base *height\n",
    "\n",
    "#o calculo pode ser colocado ao nivel do do print ou entao pode ficar do lado de fora do print e ser chamado\n",
    "#print(f\"the base if base is {base} and the height {height} and the are total is {0.5*base*height}\")\n",
    "print(f\"the base if base is {base} and the height {height} and the are total is {area}\")\n"
   ]
  },
  {
   "attachments": {},
   "cell_type": "markdown",
   "metadata": {},
   "source": [
    "## condition"
   ]
  },
  {
   "cell_type": "code",
   "execution_count": 20,
   "metadata": {},
   "outputs": [
    {
     "name": "stdout",
     "output_type": "stream",
     "text": [
      "------result of yout income----\n",
      "your net income is 36000.0,  because your tax is 9000.0 and the gross income is 45000\n"
     ]
    }
   ],
   "source": [
    "gross_income =  int(input(\"enter yout gross income: \"))\n",
    "\n",
    "if gross_income < 1000:\n",
    "    tax = 0.05 * gross_income\n",
    "elif (gross_income >= 1000) and (gross_income < 5000):\n",
    "    tax =  0.1*gross_income\n",
    "elif (gross_income >= 5000) and (gross_income < 10000):\n",
    "    tax =  0.15*gross_income\n",
    "else:\n",
    "    tax = 0.2 *  gross_income\n",
    "    \n",
    "net_income = gross_income -  tax\n",
    "\n",
    "print(\"------result of your income----\")\n",
    "print(f\"your net income is {net_income},  because your tax is {tax} and the gross income is {gross_income}\")"
   ]
  },
  {
   "attachments": {},
   "cell_type": "markdown",
   "metadata": {},
   "source": [
    "## ex2 - loop\n",
    "\n",
    "para perceber como é que funciona os loops e range com o exercicio das tabuadas."
   ]
  },
  {
   "cell_type": "code",
   "execution_count": null,
   "metadata": {},
   "outputs": [],
   "source": [
    "\n",
    "#simples exemplo de como podemos fazer um tabuada\n",
    "tabuada = int(input(\"indique a tabuada que quer calcular: \"))\n",
    "\n",
    "for i in range(1,11):\n",
    "    print(f\"{tabuada} * {i} = {tabuada*i}\")"
   ]
  },
  {
   "cell_type": "code",
   "execution_count": null,
   "metadata": {},
   "outputs": [],
   "source": [
    "num=int(input(\"insert the value:\" ))\n",
    "for i in range(1,num):\n",
    "    if num % 2 ==0:\n",
    "        print(i)\n"
   ]
  },
  {
   "cell_type": "code",
   "execution_count": 42,
   "metadata": {},
   "outputs": [
    {
     "name": "stdout",
     "output_type": "stream",
     "text": [
      "total number is4\n",
      "total number is9\n",
      "total value 9\n"
     ]
    }
   ],
   "source": [
    "\"\"\"\n",
    "inserir o numero,  e colocar o sempre o um numero,  mas antes tenho de iidcar que se quro que seja inserido mais algum numero,  para isso tenho de\n",
    "continuara inserir,  no caso de indicar que \"y\" tenho de continuar a inserir.    \n",
    "    \n",
    "\"\"\"\n",
    "\n",
    "num1=int(input(\"insert number 1: \"))\n",
    "num2=int(input(\"insert number 2: \"))\n",
    "\n",
    "total = num1+num2\n",
    "answer = \"y\"\n",
    "\n",
    "while answer == \"y\":\n",
    "    other_num=int(input(\"insert another number: \"))\n",
    "    \n",
    "    total=total + other_num\n",
    "    \n",
    "    print(f\"total number is {total}\")\n",
    "    answer = input(\"do you wanr to continue?(y/n): \")\n",
    "print(f\"total value {total}\")"
   ]
  },
  {
   "cell_type": "code",
   "execution_count": null,
   "metadata": {},
   "outputs": [],
   "source": [
    "\"\"\"\n",
    "- fazer um loop com um if dentro,  de forma apresentar penas os numero de pares,  contando de 1 a 100.\n",
    "- agora vamos fazer no fim o acumulado de  todos os valores apresentados\n",
    "\n",
    "-  neste exemplo vamos apresentar um usar um if dentro de um while loop + apresentar um valor acumulado de todos os valores apresentados no\n",
    "while loop    \n",
    "    \n",
    "\"\"\"\n",
    "total =0\n",
    "\n",
    "\n",
    "for i in range(1,100):\n",
    "    if i % 2 ==0:\n",
    "        print(i)\n",
    "        total+=i\n",
    "        \n",
    "print(f\"total even number: {total}\")"
   ]
  },
  {
   "cell_type": "code",
   "execution_count": null,
   "metadata": {},
   "outputs": [],
   "source": [
    "#usar um break para terminar um while loop\n",
    "total =0\n",
    "\n",
    "start = int(input(\"valor para começar: \"))\n",
    "stop = int(input(\"valor para terminar: \"))\n",
    "\n",
    "for i in range(start,stop):\n",
    "    if i % 2 ==0:\n",
    "        print(i)\n",
    "        if total > 100:\n",
    "            break\n",
    "        total+=i\n",
    "        \n",
    "print(f\"total even number: {total}\")"
   ]
  },
  {
   "cell_type": "code",
   "execution_count": null,
   "metadata": {},
   "outputs": [],
   "source": [
    "#example using continue dentro de um while loop\n",
    "total =0\n",
    "\n",
    "start = int(input(\"valor para começar: \"))\n",
    "stop = int(input(\"valor para terminar: \"))\n",
    "\n",
    "for i in range(start,stop):\n",
    "    if i % 2 ==0:\n",
    "        print(i)\n",
    "        print(f\"total: {total}\")\n",
    "        if i == 100:\n",
    "            continue\n",
    "        total+=i\n",
    "        \n",
    "print(f\"total even number: {total}\")"
   ]
  },
  {
   "cell_type": "code",
   "execution_count": null,
   "metadata": {},
   "outputs": [],
   "source": [
    "balance= 0\n",
    "\n",
    "while True:\n",
    "    prompt=input(\"para terminara operação prima 0,  caso contrario continue: \")\n",
    "    stop = int(input(prompt))\n",
    "    \n",
    "    if stop !=0:\n",
    "        print(\"\"\"\n",
    "            1) Deposit cash\n",
    "            2) Withdraw cash\n",
    "            3) Check balance\n",
    "            4) Quit program              \n",
    "            \"\"\")\n",
    "        option = int(input(\"enter option: \"))\n",
    "        \n",
    "        if option == 1:\n",
    "            deposit = int(input(\"digite o valor que quer depositar: \"))\n",
    "            balance+=deposit\n",
    "            \n",
    "        elif option == 2:\n",
    "            withdraw = int(input(\"digite o valor que quer levantar: \"))\n",
    "            balance-=withdraw\n",
    "            \n",
    "        elif option == 3:\n",
    "            print(f\"Este é o seu balanço atual{balance}\")\n",
    "            \n",
    "        elif option ==4:\n",
    "            print(\"Podemos fechar a operação\")\n",
    "            break\n",
    "        \n",
    "        else:\n",
    "            print(\"opção inválida\")\n",
    "    "
   ]
  },
  {
   "cell_type": "code",
   "execution_count": 52,
   "metadata": {},
   "outputs": [
    {
     "name": "stdout",
     "output_type": "stream",
     "text": [
      "forbidden\n"
     ]
    }
   ],
   "source": [
    "\"\"\"\n",
    "match case statement > podemos usar um conjunto de case,  para fazer a validaçao dos nossos dados , é parecido com o o que se pode validar numa condição de if\n",
    "mas fica de forma mais clean\n",
    "\"\"\"\n",
    "\n",
    "code = int(input(\"insert the code(404/400/302/500/403)\"))\n",
    "\n",
    "match code: \n",
    "    case 404:\n",
    "        message = \"Not Found\"\n",
    "    case 400:\n",
    "        message = \"bad request\"\n",
    "    case 302:\n",
    "        message = \"found\"\n",
    "    case 500:\n",
    "        message = \"Internal server error\"\n",
    "    case 403:\n",
    "        message = \"forbidden\"\n",
    "    case other:\n",
    "        message = \"Invalid status code\"\n",
    "\n",
    "print(message) "
   ]
  },
  {
   "cell_type": "code",
   "execution_count": 54,
   "metadata": {},
   "outputs": [
    {
     "name": "stdout",
     "output_type": "stream",
     "text": [
      "volume is 21714.68842161265 cubic units\n",
      "volume is 173717.5073729012 cubic units\n"
     ]
    }
   ],
   "source": [
    "import math\n",
    "\n",
    "racius = float(input(\"insert the racius value: \"))\n",
    "height = float(input(\"insert heigth value: \"))\n",
    "\n",
    "def get_volume(height,radius):\n",
    "    \n",
    "    volume= math.pi * (radius **2)*height\n",
    "    \n",
    "    print(f\"volume is {get_volume(racius,height)} cubic units\")\n"
   ]
  },
  {
   "cell_type": "code",
   "execution_count": 57,
   "metadata": {},
   "outputs": [
    {
     "name": "stdout",
     "output_type": "stream",
     "text": [
      "the final result is 5 + 5 = 10\n",
      "the final result is 5 * 5 = 25\n",
      "the final result is 5 / 5 = 1.0\n"
     ]
    }
   ],
   "source": [
    "import math\n",
    "\n",
    "nm1 = int(input(\"insert your number1: \"))\n",
    "nm2 = int(input(\"insert your number2: \"))\n",
    "\n",
    "\n",
    "def calculator(nm1,  nm2):\n",
    "    plus = nm1 + nm2\n",
    "    multi = nm1 * nm2\n",
    "    div = nm1 / nm2\n",
    "    \n",
    "\n",
    "    return plus, multi, div\n",
    "\n",
    "plus, multi, div = calculator (nm1,nm2)\n",
    "\n",
    "print(f\"the final result is {nm1} + {nm2} = {plus}\")\n",
    "print(f\"the final result is {nm1} * {nm2} = {multi}\")\n",
    "print(f\"the final result is {nm1} / {nm2} = {div}\")"
   ]
  },
  {
   "cell_type": "code",
   "execution_count": 60,
   "metadata": {},
   "outputs": [
    {
     "name": "stdout",
     "output_type": "stream",
     "text": [
      "5\n",
      "6\n",
      "Help on function add in module __main__:\n",
      "\n",
      "add(x, y)\n",
      "    return the sum od 2 number\n",
      "    \n",
      "    args : \n",
      "    x(int): the first number\n",
      "    y(int): the second number\n",
      "    \n",
      "    return: \n",
      "        int: sum of 2 numbers\n",
      "\n"
     ]
    }
   ],
   "source": [
    "\"\"\"\n",
    "arguments\n",
    "positional arguments\n",
    "keyword arguments\n",
    "\"\"\"\n",
    "\n",
    "\n",
    "def add(x,y):\n",
    "    \"\"\"\n",
    "    return the sum of 2 number\n",
    "    \n",
    "    args : \n",
    "    x(int): the first number\n",
    "    y(int): the second number\n",
    "    \n",
    "    return: \n",
    "        int: sum of 2 numbers\n",
    "    \n",
    "    \"\"\"\n",
    "    return x+y\n",
    "print(add(2,3))\n",
    "print(add(x=3,  y=3))\n",
    "\n",
    "#no caso de eu precisar de um explicação sobre alguma função\n",
    "help(add)"
   ]
  },
  {
   "attachments": {},
   "cell_type": "markdown",
   "metadata": {},
   "source": [
    "## List"
   ]
  },
  {
   "cell_type": "code",
   "execution_count": 61,
   "metadata": {},
   "outputs": [
    {
     "name": "stdout",
     "output_type": "stream",
     "text": [
      "['james', 'jerry', 'maria', 'martha']\n",
      "['h', 'e', 'l', 'l', 'o']\n"
     ]
    }
   ],
   "source": [
    "names = ['james', 'jerry','maria','martha']\n",
    "\n",
    "nums = [1,2,3,4,5,6]\n",
    "\n",
    "attendance = [True, False]\n",
    "\n",
    "a = ['jerry','boat', 12, True, [1,2]]\n",
    "\n",
    "name = list(\"hello\")\n",
    "\n",
    "print(names)\n",
    "print(name)"
   ]
  },
  {
   "cell_type": "code",
   "execution_count": 65,
   "metadata": {},
   "outputs": [
    {
     "name": "stdout",
     "output_type": "stream",
     "text": [
      "james\n",
      "jerry\n",
      "maria\n",
      "martha\n",
      "---Negative index---\n",
      "james\n",
      "jerry\n",
      "maria\n",
      "martha\n",
      "---check if a value exist in a list---\n",
      "True\n"
     ]
    }
   ],
   "source": [
    "#           -4      -3      -2      -1\n",
    "names = ['james', 'jerry','maria','martha']\n",
    "#           0       1       2       3\n",
    "\n",
    "print(names[0])\n",
    "print(names[1])\n",
    "print(names[2])\n",
    "print(names[3])\n",
    "\n",
    "\n",
    "#negative index access\n",
    "print(\"---Negative index---\")\n",
    "\n",
    "print(names[-4])\n",
    "print(names[-3])\n",
    "print(names[-2])\n",
    "print(names[-1])\n",
    "\n",
    "print(\"---check if a value exist in a list---\")\n",
    "\n",
    "#i will get a true/false if exist\n",
    "\n",
    "print(\"martha\" in names)\n"
   ]
  },
  {
   "cell_type": "code",
   "execution_count": 67,
   "metadata": {},
   "outputs": [
    {
     "name": "stdout",
     "output_type": "stream",
     "text": [
      "the jerry exist in a list\n"
     ]
    }
   ],
   "source": [
    "## sexercicio simples para validar se o elemento que o user está a procurar existe\n",
    "\n",
    "\n",
    "guess = input(\"Pode colocar o nome que procurar: \")\n",
    "\n",
    "if guess in names:\n",
    "    print(f\"the {guess} exist in a list\")\n",
    "else:\n",
    "    print(f\"{guess} doesn't exist\")"
   ]
  },
  {
   "cell_type": "code",
   "execution_count": 72,
   "metadata": {},
   "outputs": [
    {
     "name": "stdout",
     "output_type": "stream",
     "text": [
      "james\n",
      "jerry\n",
      "maria\n",
      "martha\n"
     ]
    }
   ],
   "source": [
    "names = ['james', 'jerry','maria','martha']\n",
    "\n",
    "for name in names:\n",
    "    print(name)"
   ]
  },
  {
   "attachments": {},
   "cell_type": "markdown",
   "metadata": {},
   "source": [
    "## add and remove elementos from the list\n",
    "\n",
    "# append > names.append(12)\n",
    "# insert > important indicar o index onde queremos posicionar o novo elemento > #names.insert(1,\"jackson\")\n",
    "# pop > No caso de nao indicarmos o index, vai ser removido o ultimo elemento por default > print(names.pop(1))\n",
    "# remove > names.remove('james')"
   ]
  },
  {
   "cell_type": "code",
   "execution_count": 87,
   "metadata": {},
   "outputs": [
    {
     "name": "stdout",
     "output_type": "stream",
     "text": [
      "['james', 'jerry', 'maria', 'martha']\n",
      "['james', 'jerry', 'maria', 'martha']\n",
      "['james', 'jerry', 'maria', 'martha']\n",
      "['james', 'jerry', 'maria', 'martha']\n",
      "['james', 'jerry', 'maria', 'martha']\n",
      "['james', 'jerry', 'maria', 'martha']\n",
      "['jerry', 'maria', 'martha']\n"
     ]
    }
   ],
   "source": [
    "# remove add elements to a list\n",
    "print(names)\n",
    "\n",
    "#append\n",
    "#names.append(12)\n",
    "print(names)\n",
    "\n",
    "\n",
    "#temos de indicar o index onde queremos fazer o insert\n",
    "#names.insert(1,\"jackson\")\n",
    "\n",
    "print(names)\n",
    "\n",
    "names = ['james', 'jerry','maria','martha']\n",
    "\n",
    "#no caos de nao indicarmos o index,  vai remover o ultimo index\n",
    "#print(names.pop())\n",
    "print(names)\n",
    "\n",
    "# no caso de indicarmos o index vai remover o index que indicarmos\n",
    "#print(names.pop(1))\n",
    "print(names)\n",
    "#este foi o resultado,  ou seja removeu o jerry\n",
    "#['james', 'maria', 'martha']\n",
    "\n",
    "# remove\n",
    "print(names)\n",
    "\n",
    "names.remove('james')\n",
    "# o resultado vai ser que o james nao vai estar mais na lista\n",
    "#['jerry', 'maria', 'martha']\n",
    "print(names)"
   ]
  },
  {
   "attachments": {},
   "cell_type": "markdown",
   "metadata": {},
   "source": [
    "## slicing list"
   ]
  },
  {
   "cell_type": "code",
   "execution_count": 88,
   "metadata": {},
   "outputs": [
    {
     "name": "stdout",
     "output_type": "stream",
     "text": [
      "['james', 'jerry', 'maria', 'martha']\n",
      "['maria', 'martha', 'james', 'jimmy', 'abel']\n",
      "['james', 'jerry', 'maria', 'martha']\n"
     ]
    }
   ],
   "source": [
    "#            0       1      2       3\n",
    "names = ['james', 'jerry','maria','martha', \n",
    "#               4       5       6       7\n",
    "            'james', 'jimmy','abel','herbert'\n",
    "            ]\n",
    "\n",
    "print(names[0:4])\n",
    "print(names[2:7])\n",
    "print(names[0:4])\n"
   ]
  },
  {
   "cell_type": "code",
   "execution_count": 3,
   "metadata": {},
   "outputs": [
    {
     "name": "stdout",
     "output_type": "stream",
     "text": [
      "  programming languages\n",
      "1                python\n",
      "2                  java\n",
      "3                     R\n",
      "4                 Scala\n",
      "  programming languages  #enrolled\n",
      "1                python        100\n",
      "2                  java         50\n",
      "3                     R         30\n",
      "4                 Scala         20\n"
     ]
    }
   ],
   "source": [
    "#convert a list into a dataframe\n",
    "\n",
    "import pandas as pd\n",
    "\n",
    "list1=['python','java','R','Scala']\n",
    "df = pd.DataFrame(list1, index=[1,2,3,4],columns=['programming languages'])\n",
    "print(df)\n",
    "\n",
    "#no caos de precisar de acresentar mais colunas,  tenho de adicionar na lista os elementos,  bem como data frame indicar o nome da nova coluna\n",
    "list2=[['python',100],['java',50],['R',30],['Scala',20]]\n",
    "df = pd.DataFrame(list2, index=[1,2,3,4],columns=['programming languages','#enrolled'])\n",
    "print(df)\n"
   ]
  }
 ],
 "metadata": {
  "kernelspec": {
   "display_name": "Python 3",
   "language": "python",
   "name": "python3"
  },
  "language_info": {
   "codemirror_mode": {
    "name": "ipython",
    "version": 3
   },
   "file_extension": ".py",
   "mimetype": "text/x-python",
   "name": "python",
   "nbconvert_exporter": "python",
   "pygments_lexer": "ipython3",
   "version": "3.10.2"
  },
  "orig_nbformat": 4,
  "vscode": {
   "interpreter": {
    "hash": "fbe58ca63fe33f9eeae9e71d10368d2b4a57f2b1b395836210cc60d362c66949"
   }
  }
 },
 "nbformat": 4,
 "nbformat_minor": 2
}
