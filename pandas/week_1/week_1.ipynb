{
 "cells": [
  {
   "cell_type": "code",
   "execution_count": 1,
   "metadata": {},
   "outputs": [
    {
     "name": "stdout",
     "output_type": "stream",
     "text": [
      "Empty DataFrame\n",
      "Columns: []\n",
      "Index: []\n",
      "        0\n",
      "0   Geeks\n",
      "1     For\n",
      "2   Geeks\n",
      "3      is\n",
      "4  portal\n",
      "5     for\n",
      "6   Geeks\n"
     ]
    }
   ],
   "source": [
    "import pandas as pd\n",
    "   \n",
    "# Calling DataFrame constructor\n",
    "df = pd.DataFrame()\n",
    "print(df)\n",
    " \n",
    "# list of strings\n",
    "lst = ['Geeks', 'For', 'Geeks', 'is', \n",
    "            'portal', 'for', 'Geeks']\n",
    "   \n",
    "# Calling DataFrame constructor on list\n",
    "df = pd.DataFrame(lst)\n",
    "print(df)"
   ]
  }
 ],
 "metadata": {
  "kernelspec": {
   "display_name": "Python 3",
   "language": "python",
   "name": "python3"
  },
  "language_info": {
   "codemirror_mode": {
    "name": "ipython",
    "version": 3
   },
   "file_extension": ".py",
   "mimetype": "text/x-python",
   "name": "python",
   "nbconvert_exporter": "python",
   "pygments_lexer": "ipython3",
   "version": "3.10.2"
  },
  "orig_nbformat": 4
 },
 "nbformat": 4,
 "nbformat_minor": 2
}
